{
 "cells": [
  {
   "cell_type": "markdown",
   "metadata": {},
   "source": [
    "# Wilt Data Set Decision Tree"
   ]
  },
  {
   "cell_type": "code",
   "execution_count": 1,
   "metadata": {},
   "outputs": [],
   "source": [
    "import pandas as pd\n",
    "import numpy as np"
   ]
  },
  {
   "cell_type": "code",
   "execution_count": 2,
   "metadata": {},
   "outputs": [
    {
     "data": {
      "text/html": [
       "<div>\n",
       "<style scoped>\n",
       "    .dataframe tbody tr th:only-of-type {\n",
       "        vertical-align: middle;\n",
       "    }\n",
       "\n",
       "    .dataframe tbody tr th {\n",
       "        vertical-align: top;\n",
       "    }\n",
       "\n",
       "    .dataframe thead th {\n",
       "        text-align: right;\n",
       "    }\n",
       "</style>\n",
       "<table border=\"1\" class=\"dataframe\">\n",
       "  <thead>\n",
       "    <tr style=\"text-align: right;\">\n",
       "      <th></th>\n",
       "      <th>GLCM_pan</th>\n",
       "      <th>Mean_NIR</th>\n",
       "      <th>SD_pan</th>\n",
       "      <th>Class</th>\n",
       "      <th>Mean_Green_log</th>\n",
       "      <th>Mean_Red_log</th>\n",
       "    </tr>\n",
       "  </thead>\n",
       "  <tbody>\n",
       "    <tr>\n",
       "      <th>0</th>\n",
       "      <td>120.362774</td>\n",
       "      <td>416.581395</td>\n",
       "      <td>20.676318</td>\n",
       "      <td>1</td>\n",
       "      <td>5.325446</td>\n",
       "      <td>4.782440</td>\n",
       "    </tr>\n",
       "    <tr>\n",
       "      <th>1</th>\n",
       "      <td>124.739583</td>\n",
       "      <td>354.333333</td>\n",
       "      <td>16.707151</td>\n",
       "      <td>1</td>\n",
       "      <td>5.312220</td>\n",
       "      <td>4.747826</td>\n",
       "    </tr>\n",
       "    <tr>\n",
       "      <th>2</th>\n",
       "      <td>134.691964</td>\n",
       "      <td>477.857143</td>\n",
       "      <td>22.496712</td>\n",
       "      <td>1</td>\n",
       "      <td>5.294740</td>\n",
       "      <td>4.760952</td>\n",
       "    </tr>\n",
       "    <tr>\n",
       "      <th>3</th>\n",
       "      <td>127.946309</td>\n",
       "      <td>278.473684</td>\n",
       "      <td>14.977453</td>\n",
       "      <td>1</td>\n",
       "      <td>5.183851</td>\n",
       "      <td>4.525785</td>\n",
       "    </tr>\n",
       "    <tr>\n",
       "      <th>4</th>\n",
       "      <td>135.431548</td>\n",
       "      <td>532.952381</td>\n",
       "      <td>17.604193</td>\n",
       "      <td>1</td>\n",
       "      <td>5.283204</td>\n",
       "      <td>4.724645</td>\n",
       "    </tr>\n",
       "  </tbody>\n",
       "</table>\n",
       "</div>"
      ],
      "text/plain": [
       "     GLCM_pan    Mean_NIR     SD_pan  Class  Mean_Green_log  Mean_Red_log\n",
       "0  120.362774  416.581395  20.676318      1        5.325446      4.782440\n",
       "1  124.739583  354.333333  16.707151      1        5.312220      4.747826\n",
       "2  134.691964  477.857143  22.496712      1        5.294740      4.760952\n",
       "3  127.946309  278.473684  14.977453      1        5.183851      4.525785\n",
       "4  135.431548  532.952381  17.604193      1        5.283204      4.724645"
      ]
     },
     "execution_count": 2,
     "metadata": {},
     "output_type": "execute_result"
    }
   ],
   "source": [
    "dfTrain=pd.read_csv(\"../Classification/wilt_traindt.csv\")\n",
    "dfTrain.drop(['Unnamed: 0'],axis=1,inplace=True)\n",
    "dfTrain.head()"
   ]
  },
  {
   "cell_type": "code",
   "execution_count": 3,
   "metadata": {},
   "outputs": [],
   "source": [
    "X=dfTrain[['GLCM_pan','Mean_NIR','SD_pan','Mean_Green_log','Mean_Red_log']]\n",
    "Y=dfTrain['Class'].values"
   ]
  },
  {
   "cell_type": "code",
   "execution_count": 4,
   "metadata": {},
   "outputs": [
    {
     "data": {
      "text/html": [
       "<div>\n",
       "<style scoped>\n",
       "    .dataframe tbody tr th:only-of-type {\n",
       "        vertical-align: middle;\n",
       "    }\n",
       "\n",
       "    .dataframe tbody tr th {\n",
       "        vertical-align: top;\n",
       "    }\n",
       "\n",
       "    .dataframe thead th {\n",
       "        text-align: right;\n",
       "    }\n",
       "</style>\n",
       "<table border=\"1\" class=\"dataframe\">\n",
       "  <thead>\n",
       "    <tr style=\"text-align: right;\">\n",
       "      <th></th>\n",
       "      <th>0</th>\n",
       "      <th>1</th>\n",
       "      <th>2</th>\n",
       "      <th>3</th>\n",
       "      <th>4</th>\n",
       "    </tr>\n",
       "  </thead>\n",
       "  <tbody>\n",
       "    <tr>\n",
       "      <th>0</th>\n",
       "      <td>-0.475180</td>\n",
       "      <td>-0.764405</td>\n",
       "      <td>-0.388399</td>\n",
       "      <td>-0.575692</td>\n",
       "      <td>0.278598</td>\n",
       "    </tr>\n",
       "    <tr>\n",
       "      <th>1</th>\n",
       "      <td>-0.156213</td>\n",
       "      <td>-1.166831</td>\n",
       "      <td>-0.756342</td>\n",
       "      <td>-0.646968</td>\n",
       "      <td>0.166728</td>\n",
       "    </tr>\n",
       "    <tr>\n",
       "      <th>2</th>\n",
       "      <td>0.569083</td>\n",
       "      <td>-0.368266</td>\n",
       "      <td>-0.219648</td>\n",
       "      <td>-0.741174</td>\n",
       "      <td>0.209150</td>\n",
       "    </tr>\n",
       "    <tr>\n",
       "      <th>3</th>\n",
       "      <td>0.077483</td>\n",
       "      <td>-1.657253</td>\n",
       "      <td>-0.916686</td>\n",
       "      <td>-1.338769</td>\n",
       "      <td>-0.550893</td>\n",
       "    </tr>\n",
       "    <tr>\n",
       "      <th>4</th>\n",
       "      <td>0.622982</td>\n",
       "      <td>-0.012082</td>\n",
       "      <td>-0.673186</td>\n",
       "      <td>-0.803342</td>\n",
       "      <td>0.091807</td>\n",
       "    </tr>\n",
       "  </tbody>\n",
       "</table>\n",
       "</div>"
      ],
      "text/plain": [
       "          0         1         2         3         4\n",
       "0 -0.475180 -0.764405 -0.388399 -0.575692  0.278598\n",
       "1 -0.156213 -1.166831 -0.756342 -0.646968  0.166728\n",
       "2  0.569083 -0.368266 -0.219648 -0.741174  0.209150\n",
       "3  0.077483 -1.657253 -0.916686 -1.338769 -0.550893\n",
       "4  0.622982 -0.012082 -0.673186 -0.803342  0.091807"
      ]
     },
     "execution_count": 4,
     "metadata": {},
     "output_type": "execute_result"
    }
   ],
   "source": [
    "### normalize:\n",
    "from sklearn.preprocessing import StandardScaler\n",
    "X_norm=StandardScaler().fit(X).transform(X)\n",
    "X_norm=pd.DataFrame(X_norm)\n",
    "X_norm.head()\n"
   ]
  },
  {
   "cell_type": "code",
   "execution_count": 5,
   "metadata": {},
   "outputs": [
    {
     "data": {
      "text/plain": [
       "(0    4.607451e-16\n",
       " 1    4.903163e-16\n",
       " 2   -1.643315e-16\n",
       " 3   -4.178209e-16\n",
       " 4   -9.715160e-16\n",
       " dtype: float64, 0    1.000116\n",
       " 1    1.000116\n",
       " 2    1.000116\n",
       " 3    1.000116\n",
       " 4    1.000116\n",
       " dtype: float64)"
      ]
     },
     "execution_count": 5,
     "metadata": {},
     "output_type": "execute_result"
    }
   ],
   "source": [
    "X_norm.mean(),X_norm.std()"
   ]
  },
  {
   "cell_type": "code",
   "execution_count": 6,
   "metadata": {},
   "outputs": [],
   "source": [
    "from sklearn.tree import DecisionTreeClassifier\n",
    "from sklearn.model_selection import train_test_split"
   ]
  },
  {
   "cell_type": "code",
   "execution_count": 7,
   "metadata": {},
   "outputs": [
    {
     "name": "stdout",
     "output_type": "stream",
     "text": [
      "xtrain = \t (3233, 5)\n",
      "ytrain = \t (3233,)\n",
      "xtest = \t (1078, 5)\n",
      "ytest = \t (1078,)\n"
     ]
    }
   ],
   "source": [
    "xtrain,xtest,ytrain,ytest=train_test_split(X_norm,Y,test_size=0.25,random_state=42)\n",
    "print('xtrain =','\\t',xtrain.shape)\n",
    "print('ytrain =','\\t',ytrain.shape)\n",
    "print('xtest =','\\t',xtest.shape)\n",
    "print('ytest =','\\t',ytest.shape)"
   ]
  },
  {
   "cell_type": "code",
   "execution_count": 8,
   "metadata": {},
   "outputs": [],
   "source": [
    "model=DecisionTreeClassifier( criterion='gini', max_depth = 7)\n",
    "\n",
    "wilt_tree=model.fit(xtrain,ytrain)"
   ]
  },
  {
   "cell_type": "code",
   "execution_count": 9,
   "metadata": {},
   "outputs": [],
   "source": [
    "predTree = wilt_tree.predict(xtest)"
   ]
  },
  {
   "cell_type": "code",
   "execution_count": 10,
   "metadata": {},
   "outputs": [
    {
     "name": "stdout",
     "output_type": "stream",
     "text": [
      "[0 0 0 0 0 0 0 0 0 0 0 0 0 0 0 0 0 0 0 0]\n",
      "[0 0 0 0 0 0 0 0 0 0 0 0 0 0 0 1 0 0 0 0]\n"
     ]
    }
   ],
   "source": [
    "print (predTree [0:20])\n",
    "print (ytest [0:20])"
   ]
  },
  {
   "cell_type": "code",
   "execution_count": 11,
   "metadata": {},
   "outputs": [],
   "source": [
    "from sklearn.metrics import accuracy_score"
   ]
  },
  {
   "cell_type": "code",
   "execution_count": 12,
   "metadata": {},
   "outputs": [
    {
     "name": "stdout",
     "output_type": "stream",
     "text": [
      "DecisionTrees's Accuracy:  0.987012987012987\n"
     ]
    }
   ],
   "source": [
    "print(\"DecisionTrees's Accuracy: \", accuracy_score(ytest, predTree))"
   ]
  },
  {
   "cell_type": "code",
   "execution_count": 13,
   "metadata": {},
   "outputs": [
    {
     "data": {
      "text/plain": [
       "array([0.98701299, 0.98701299, 0.98701299, 0.98701299, 0.98701299,\n",
       "       0.98701299, 0.98701299, 0.98701299, 0.98701299, 0.98701299,\n",
       "       0.98701299, 0.98701299, 0.98701299, 0.98701299, 0.98701299,\n",
       "       0.98701299, 0.98701299, 0.98701299, 0.98701299, 0.98701299,\n",
       "       0.98701299, 0.98701299, 0.98701299, 0.98701299])"
      ]
     },
     "execution_count": 13,
     "metadata": {},
     "output_type": "execute_result"
    }
   ],
   "source": [
    "dct = 25\n",
    "mean_acc_dct = np.zeros((dct-1))\n",
    "std_acc_dct = np.zeros((dct-1))\n",
    "ConfustionMx = [];\n",
    "for n in range(1,dct):\n",
    "    \n",
    "    loant = DecisionTreeClassifier(criterion=\"gini\", max_depth = n).fit(xtrain,ytrain)\n",
    "    \n",
    "    yhat=wilt_tree.predict(xtest)\n",
    "    \n",
    "    mean_acc_dct[n-1] = accuracy_score(ytest, yhat)\n",
    "\n",
    "    \n",
    "    std_acc_dct[n-1]=np.std(yhat==ytest)/np.sqrt(yhat.shape[0])\n",
    "\n",
    "mean_acc_dct\n"
   ]
  },
  {
   "cell_type": "code",
   "execution_count": 14,
   "metadata": {},
   "outputs": [
    {
     "name": "stdout",
     "output_type": "stream",
     "text": [
      "The best accuracy was with 0.987012987012987 with max_depth= 1\n"
     ]
    }
   ],
   "source": [
    "best_depth=mean_acc_dct.argmax()+1\n",
    "print( \"The best accuracy was with\", mean_acc_dct.max(), \"with max_depth=\", mean_acc_dct.argmax()+1) "
   ]
  },
  {
   "cell_type": "code",
   "execution_count": 15,
   "metadata": {},
   "outputs": [],
   "source": [
    "import matplotlib.pyplot as plt\n",
    "import seaborn as sns"
   ]
  },
  {
   "cell_type": "code",
   "execution_count": 16,
   "metadata": {},
   "outputs": [
    {
     "data": {
      "image/png": "[encoded data removed]",
      "text/plain": [
       "<Figure size 640x480 with 1 Axes>"
      ]
     },
     "metadata": {},
     "output_type": "display_data"
    }
   ],
   "source": [
    "sns.set_style('darkgrid')\n",
    "plt.figure(figsize=(8,6),dpi=80)\n",
    "plt.plot(range(1,dct), mean_acc_dct,'tomato')\n",
    "plt.fill_between(range(1,dct),mean_acc_dct - 1 * std_acc_dct,mean_acc_dct + 1 * std_acc_dct, alpha=0.10,color='aqua')\n",
    "\n",
    "plt.legend(('Accuracy ', '+/- 3xstd'))\n",
    "plt.ylabel('Accuracy ')\n",
    "plt.xlabel('Number of Max Depth')\n",
    "plt.tight_layout()\n",
    "plt.show();\n"
   ]
  },
  {
   "cell_type": "code",
   "execution_count": 17,
   "metadata": {},
   "outputs": [
    {
     "data": {
      "text/plain": [
       "1"
      ]
     },
     "execution_count": 17,
     "metadata": {},
     "output_type": "execute_result"
    }
   ],
   "source": [
    "best_depth"
   ]
  },
  {
   "cell_type": "markdown",
   "metadata": {},
   "source": [
    "## DCTree Model"
   ]
  },
  {
   "cell_type": "code",
   "execution_count": 18,
   "metadata": {},
   "outputs": [
    {
     "data": {
      "text/plain": [
       "DecisionTreeClassifier(class_weight=None, criterion='gini', max_depth=1,\n",
       "                       max_features=None, max_leaf_nodes=None,\n",
       "                       min_impurity_decrease=0.0, min_impurity_split=None,\n",
       "                       min_samples_leaf=1, min_samples_split=2,\n",
       "                       min_weight_fraction_leaf=0.0, presort=False,\n",
       "                       random_state=None, splitter='best')"
      ]
     },
     "execution_count": 18,
     "metadata": {},
     "output_type": "execute_result"
    }
   ],
   "source": [
    "DCT_model = DecisionTreeClassifier(criterion=\"gini\", max_depth = best_depth).fit(xtrain,ytrain)\n",
    "DCT_model"
   ]
  },
  {
   "cell_type": "markdown",
   "metadata": {},
   "source": [
    "#### Model Evaluation using Test set"
   ]
  },
  {
   "cell_type": "code",
   "execution_count": 19,
   "metadata": {},
   "outputs": [
    {
     "data": {
      "text/html": [
       "<div>\n",
       "<style scoped>\n",
       "    .dataframe tbody tr th:only-of-type {\n",
       "        vertical-align: middle;\n",
       "    }\n",
       "\n",
       "    .dataframe tbody tr th {\n",
       "        vertical-align: top;\n",
       "    }\n",
       "\n",
       "    .dataframe thead th {\n",
       "        text-align: right;\n",
       "    }\n",
       "</style>\n",
       "<table border=\"1\" class=\"dataframe\">\n",
       "  <thead>\n",
       "    <tr style=\"text-align: right;\">\n",
       "      <th></th>\n",
       "      <th>class</th>\n",
       "      <th>GLCM_pan</th>\n",
       "      <th>Mean_NIR</th>\n",
       "      <th>SD_pan</th>\n",
       "      <th>Mean_Green_log</th>\n",
       "      <th>Mean_Red_log</th>\n",
       "    </tr>\n",
       "  </thead>\n",
       "  <tbody>\n",
       "    <tr>\n",
       "      <th>0</th>\n",
       "      <td>0</td>\n",
       "      <td>109.828571</td>\n",
       "      <td>251.750000</td>\n",
       "      <td>16.079412</td>\n",
       "      <td>5.213304</td>\n",
       "      <td>4.418238</td>\n",
       "    </tr>\n",
       "    <tr>\n",
       "      <th>1</th>\n",
       "      <td>0</td>\n",
       "      <td>130.284483</td>\n",
       "      <td>482.396552</td>\n",
       "      <td>21.210295</td>\n",
       "      <td>5.359591</td>\n",
       "      <td>4.573644</td>\n",
       "    </tr>\n",
       "    <tr>\n",
       "      <th>2</th>\n",
       "      <td>0</td>\n",
       "      <td>131.386555</td>\n",
       "      <td>419.666667</td>\n",
       "      <td>13.339998</td>\n",
       "      <td>5.222875</td>\n",
       "      <td>4.448126</td>\n",
       "    </tr>\n",
       "    <tr>\n",
       "      <th>3</th>\n",
       "      <td>0</td>\n",
       "      <td>141.345098</td>\n",
       "      <td>348.062500</td>\n",
       "      <td>18.213577</td>\n",
       "      <td>5.197806</td>\n",
       "      <td>4.400603</td>\n",
       "    </tr>\n",
       "    <tr>\n",
       "      <th>4</th>\n",
       "      <td>1</td>\n",
       "      <td>121.383408</td>\n",
       "      <td>426.607143</td>\n",
       "      <td>19.083196</td>\n",
       "      <td>5.386132</td>\n",
       "      <td>4.718658</td>\n",
       "    </tr>\n",
       "  </tbody>\n",
       "</table>\n",
       "</div>"
      ],
      "text/plain": [
       "   class    GLCM_pan    Mean_NIR     SD_pan  Mean_Green_log  Mean_Red_log\n",
       "0      0  109.828571  251.750000  16.079412        5.213304      4.418238\n",
       "1      0  130.284483  482.396552  21.210295        5.359591      4.573644\n",
       "2      0  131.386555  419.666667  13.339998        5.222875      4.448126\n",
       "3      0  141.345098  348.062500  18.213577        5.197806      4.400603\n",
       "4      1  121.383408  426.607143  19.083196        5.386132      4.718658"
      ]
     },
     "execution_count": 19,
     "metadata": {},
     "output_type": "execute_result"
    }
   ],
   "source": [
    "dfTest=pd.read_csv(\"../Classification/wilt_testdt.csv\")\n",
    "dfTest.drop(['Unnamed: 0'],axis=1,inplace=True)\n",
    "dfTest.head()"
   ]
  },
  {
   "cell_type": "code",
   "execution_count": 20,
   "metadata": {},
   "outputs": [],
   "source": [
    "X_test=dfTest[['GLCM_pan','Mean_NIR','SD_pan','Mean_Green_log','Mean_Red_log']]\n",
    "Y_test=dfTest['class'].values"
   ]
  },
  {
   "cell_type": "code",
   "execution_count": 21,
   "metadata": {},
   "outputs": [
    {
     "data": {
      "text/html": [
       "<div>\n",
       "<style scoped>\n",
       "    .dataframe tbody tr th:only-of-type {\n",
       "        vertical-align: middle;\n",
       "    }\n",
       "\n",
       "    .dataframe tbody tr th {\n",
       "        vertical-align: top;\n",
       "    }\n",
       "\n",
       "    .dataframe thead th {\n",
       "        text-align: right;\n",
       "    }\n",
       "</style>\n",
       "<table border=\"1\" class=\"dataframe\">\n",
       "  <thead>\n",
       "    <tr style=\"text-align: right;\">\n",
       "      <th></th>\n",
       "      <th>0</th>\n",
       "      <th>1</th>\n",
       "      <th>2</th>\n",
       "      <th>3</th>\n",
       "      <th>4</th>\n",
       "    </tr>\n",
       "  </thead>\n",
       "  <tbody>\n",
       "    <tr>\n",
       "      <th>0</th>\n",
       "      <td>-1.617492</td>\n",
       "      <td>-1.294426</td>\n",
       "      <td>-0.675777</td>\n",
       "      <td>-0.709051</td>\n",
       "      <td>-0.805318</td>\n",
       "    </tr>\n",
       "    <tr>\n",
       "      <th>1</th>\n",
       "      <td>0.302012</td>\n",
       "      <td>0.183679</td>\n",
       "      <td>0.084290</td>\n",
       "      <td>0.208461</td>\n",
       "      <td>-0.211652</td>\n",
       "    </tr>\n",
       "    <tr>\n",
       "      <th>2</th>\n",
       "      <td>0.405427</td>\n",
       "      <td>-0.218327</td>\n",
       "      <td>-1.081583</td>\n",
       "      <td>-0.649020</td>\n",
       "      <td>-0.691142</td>\n",
       "    </tr>\n",
       "    <tr>\n",
       "      <th>3</th>\n",
       "      <td>1.339898</td>\n",
       "      <td>-0.677204</td>\n",
       "      <td>-0.359631</td>\n",
       "      <td>-0.806253</td>\n",
       "      <td>-0.872686</td>\n",
       "    </tr>\n",
       "    <tr>\n",
       "      <th>4</th>\n",
       "      <td>-0.533231</td>\n",
       "      <td>-0.173849</td>\n",
       "      <td>-0.230809</td>\n",
       "      <td>0.374928</td>\n",
       "      <td>0.342317</td>\n",
       "    </tr>\n",
       "  </tbody>\n",
       "</table>\n",
       "</div>"
      ],
      "text/plain": [
       "          0         1         2         3         4\n",
       "0 -1.617492 -1.294426 -0.675777 -0.709051 -0.805318\n",
       "1  0.302012  0.183679  0.084290  0.208461 -0.211652\n",
       "2  0.405427 -0.218327 -1.081583 -0.649020 -0.691142\n",
       "3  1.339898 -0.677204 -0.359631 -0.806253 -0.872686\n",
       "4 -0.533231 -0.173849 -0.230809  0.374928  0.342317"
      ]
     },
     "execution_count": 21,
     "metadata": {},
     "output_type": "execute_result"
    }
   ],
   "source": [
    "X_test_norm=StandardScaler().fit(X_test).transform(X_test)\n",
    "X_test_norm=pd.DataFrame(X_test_norm)\n",
    "X_test_norm.head()"
   ]
  },
  {
   "cell_type": "markdown",
   "metadata": {},
   "source": [
    "### Test DCT Model:"
   ]
  },
  {
   "cell_type": "code",
   "execution_count": 22,
   "metadata": {},
   "outputs": [],
   "source": [
    "from sklearn.metrics import f1_score,jaccard_similarity_score"
   ]
  },
  {
   "cell_type": "code",
   "execution_count": 23,
   "metadata": {},
   "outputs": [
    {
     "name": "stdout",
     "output_type": "stream",
     "text": [
      "f1 score:  0.481064039408867\n",
      "Jaccard index:  0.624\n"
     ]
    },
    {
     "name": "stderr",
     "output_type": "stream",
     "text": [
      "C:\\Users\\Ashkan\\Anaconda3\\lib\\site-packages\\sklearn\\metrics\\classification.py:635: DeprecationWarning: jaccard_similarity_score has been deprecated and replaced with jaccard_score. It will be removed in version 0.23. This implementation has surprising behavior for binary and multiclass classification tasks.\n",
      "  'and multiclass classification tasks.', DeprecationWarning)\n"
     ]
    }
   ],
   "source": [
    "DCT_yhat=DCT_model.predict(X_test_norm)\n",
    "DCT_f1 =f1_score(Y_test, DCT_yhat, average='weighted') \n",
    "DCT_jsc = jaccard_similarity_score(Y_test, DCT_yhat)\n",
    "print('f1 score: ',DCT_f1)\n",
    "print('Jaccard index: ',DCT_jsc)"
   ]
  },
  {
   "cell_type": "code",
   "execution_count": 24,
   "metadata": {},
   "outputs": [
    {
     "data": {
      "text/html": [
       "<div>\n",
       "<style scoped>\n",
       "    .dataframe tbody tr th:only-of-type {\n",
       "        vertical-align: middle;\n",
       "    }\n",
       "\n",
       "    .dataframe tbody tr th {\n",
       "        vertical-align: top;\n",
       "    }\n",
       "\n",
       "    .dataframe thead th {\n",
       "        text-align: right;\n",
       "    }\n",
       "</style>\n",
       "<table border=\"1\" class=\"dataframe\">\n",
       "  <thead>\n",
       "    <tr style=\"text-align: right;\">\n",
       "      <th></th>\n",
       "      <th>Algorithm</th>\n",
       "      <th>Jaccard</th>\n",
       "      <th>F1-score</th>\n",
       "    </tr>\n",
       "  </thead>\n",
       "  <tbody>\n",
       "    <tr>\n",
       "      <th>0</th>\n",
       "      <td>Decision Tree</td>\n",
       "      <td>0.624</td>\n",
       "      <td>0.481064</td>\n",
       "    </tr>\n",
       "  </tbody>\n",
       "</table>\n",
       "</div>"
      ],
      "text/plain": [
       "       Algorithm  Jaccard  F1-score\n",
       "0  Decision Tree    0.624  0.481064"
      ]
     },
     "execution_count": 24,
     "metadata": {},
     "output_type": "execute_result"
    }
   ],
   "source": [
    "Jaccard = [DCT_jsc]\n",
    "F1_score = [DCT_f1]\n",
    "\n",
    "dframe = {'Algorithm': ['Decision Tree'], \\\n",
    "     'Jaccard': Jaccard, 'F1-score': F1_score}\n",
    "\n",
    "Report = pd.DataFrame(data=dframe, columns=['Algorithm', 'Jaccard', 'F1-score'], index=None)\n",
    "Report"
   ]
  },
  {
   "cell_type": "code",
   "execution_count": 25,
   "metadata": {},
   "outputs": [],
   "source": [
    "from sklearn.metrics import confusion_matrix"
   ]
  },
  {
   "cell_type": "code",
   "execution_count": 26,
   "metadata": {
    "scrolled": true
   },
   "outputs": [
    {
     "name": "stdout",
     "output_type": "stream",
     "text": [
      "[[312   1]\n",
      " [187   0]]\n"
     ]
    },
    {
     "data": {
      "text/html": [
       "<div>\n",
       "<style scoped>\n",
       "    .dataframe tbody tr th:only-of-type {\n",
       "        vertical-align: middle;\n",
       "    }\n",
       "\n",
       "    .dataframe tbody tr th {\n",
       "        vertical-align: top;\n",
       "    }\n",
       "\n",
       "    .dataframe thead th {\n",
       "        text-align: right;\n",
       "    }\n",
       "</style>\n",
       "<table border=\"1\" class=\"dataframe\">\n",
       "  <thead>\n",
       "    <tr style=\"text-align: right;\">\n",
       "      <th></th>\n",
       "      <th>Predicted 0</th>\n",
       "      <th>Predicted 1</th>\n",
       "    </tr>\n",
       "  </thead>\n",
       "  <tbody>\n",
       "    <tr>\n",
       "      <th>Actual 0</th>\n",
       "      <td>312</td>\n",
       "      <td>1</td>\n",
       "    </tr>\n",
       "    <tr>\n",
       "      <th>Actual 1</th>\n",
       "      <td>187</td>\n",
       "      <td>0</td>\n",
       "    </tr>\n",
       "  </tbody>\n",
       "</table>\n",
       "</div>"
      ],
      "text/plain": [
       "          Predicted 0  Predicted 1\n",
       "Actual 0          312            1\n",
       "Actual 1          187            0"
      ]
     },
     "execution_count": 26,
     "metadata": {},
     "output_type": "execute_result"
    }
   ],
   "source": [
    "confusion = confusion_matrix(Y_test, DCT_yhat)\n",
    "print(confusion)\n",
    "TP = confusion[1, 1]\n",
    "TN = confusion[0, 0]\n",
    "FP = confusion[0, 1]\n",
    "FN = confusion[1, 0]\n",
    "pd.DataFrame(data=confusion,columns=['Predicted 0','Predicted 1'],index=['Actual 0','Actual 1'])"
   ]
  },
  {
   "cell_type": "code",
   "execution_count": 27,
   "metadata": {},
   "outputs": [
    {
     "data": {
      "text/plain": [
       "500"
      ]
     },
     "execution_count": 27,
     "metadata": {},
     "output_type": "execute_result"
    }
   ],
   "source": [
    "n_total=TP+TN+FP+FN\n",
    "n_total"
   ]
  },
  {
   "cell_type": "code",
   "execution_count": 28,
   "metadata": {},
   "outputs": [
    {
     "name": "stdout",
     "output_type": "stream",
     "text": [
      "The model predict has \t 62.4 %,True prediction\n",
      "The model predict has \t 37.6 %,False prediction\n"
     ]
    }
   ],
   "source": [
    "True_pred,wrong_pred=TP+TN,FN+FP\n",
    "TPred=(True_pred*100)/n_total\n",
    "FPred=(wrong_pred*100)/n_total\n",
    "print('The model predict has','\\t',TPred,'%,True prediction')\n",
    "print('The model predict has','\\t',FPred,'%,False prediction')"
   ]
  },
  {
   "cell_type": "code",
   "execution_count": 34,
   "metadata": {},
   "outputs": [
    {
     "name": "stdout",
     "output_type": "stream",
     "text": [
      "Train set: (3233, 5) (3233,)\n",
      "Test set: (1078, 5) (1078,)\n"
     ]
    },
    {
     "name": "stderr",
     "output_type": "stream",
     "text": [
      "C:\\Users\\Ashkan\\Anaconda3\\lib\\site-packages\\sklearn\\svm\\base.py:193: FutureWarning: The default value of gamma will change from 'auto' to 'scale' in version 0.22 to account better for unscaled features. Set gamma explicitly to 'auto' or 'scale' to avoid this warning.\n",
      "  \"avoid this warning.\", FutureWarning)\n",
      "C:\\Users\\Ashkan\\Anaconda3\\lib\\site-packages\\sklearn\\svm\\base.py:193: FutureWarning: The default value of gamma will change from 'auto' to 'scale' in version 0.22 to account better for unscaled features. Set gamma explicitly to 'auto' or 'scale' to avoid this warning.\n",
      "  \"avoid this warning.\", FutureWarning)\n",
      "C:\\Users\\Ashkan\\Anaconda3\\lib\\site-packages\\sklearn\\svm\\base.py:193: FutureWarning: The default value of gamma will change from 'auto' to 'scale' in version 0.22 to account better for unscaled features. Set gamma explicitly to 'auto' or 'scale' to avoid this warning.\n",
      "  \"avoid this warning.\", FutureWarning)\n"
     ]
    },
    {
     "name": "stdout",
     "output_type": "stream",
     "text": [
      "svm_rbf :  \t 0.9981447124304267 \n",
      "svm_linear :  \t 0.9990723562152134 \n",
      "svm_Polynomial :  \t 0.987012987012987 \n",
      "svm_sig :  \t 0.9777365491651205 \n",
      "\n",
      "The label missing in the first model with rbf kernel set()\n",
      "The label missing in the second model with linear set()\n",
      "The label missing in the third model with polynomial kernel {1}\n",
      "The label missing in the fourth model with sigmoid kernel set()\n",
      "Train set Accuracy:  0.994741725951129\n",
      "Test set Accuracy:  0.9990723562152134\n",
      "              precision    recall  f1-score   support\n",
      "\n",
      "           0       1.00      1.00      1.00      1064\n",
      "           1       0.93      1.00      0.97        14\n",
      "\n",
      "    accuracy                           1.00      1078\n",
      "   macro avg       0.97      1.00      0.98      1078\n",
      "weighted avg       1.00      1.00      1.00      1078\n",
      "\n",
      "f1 score:  0.5714911550405757\n",
      "Jaccard index:  0.666\n",
      "[[311   2]\n",
      " [165  22]]\n",
      "The model predict has \t 66.6 %,True prediction\n",
      "The model predict has \t 33.4 %,False prediction\n"
     ]
    },
    {
     "name": "stderr",
     "output_type": "stream",
     "text": [
      "C:\\Users\\Ashkan\\Anaconda3\\lib\\site-packages\\sklearn\\metrics\\classification.py:635: DeprecationWarning: jaccard_similarity_score has been deprecated and replaced with jaccard_score. It will be removed in version 0.23. This implementation has surprising behavior for binary and multiclass classification tasks.\n",
      "  'and multiclass classification tasks.', DeprecationWarning)\n"
     ]
    }
   ],
   "source": [
    "%run Wilt_DataSet_SVM.ipynb"
   ]
  },
  {
   "cell_type": "code",
   "execution_count": null,
   "metadata": {},
   "outputs": [],
   "source": []
  }
 ],
 "metadata": {
  "kernelspec": {
   "display_name": "Python 3",
   "language": "python",
   "name": "python3"
  },
  "language_info": {
   "codemirror_mode": {
    "name": "ipython",
    "version": 3
   },
   "file_extension": ".py",
   "mimetype": "text/x-python",
   "name": "python",
   "nbconvert_exporter": "python",
   "pygments_lexer": "ipython3",
   "version": "3.7.3"
  }
 },
 "nbformat": 4,
 "nbformat_minor": 2
}
