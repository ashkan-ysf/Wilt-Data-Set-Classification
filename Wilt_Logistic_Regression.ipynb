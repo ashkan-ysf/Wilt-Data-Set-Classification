{
 "cells": [
  {
   "cell_type": "markdown",
   "metadata": {},
   "source": [
    "# Wilt Data Set Logistic Regression"
   ]
  },
  {
   "cell_type": "code",
   "execution_count": 35,
   "metadata": {},
   "outputs": [],
   "source": [
    "import pandas as pd\n",
    "import numpy as np"
   ]
  },
  {
   "cell_type": "code",
   "execution_count": 36,
   "metadata": {},
   "outputs": [
    {
     "data": {
      "text/html": [
       "<div>\n",
       "<style scoped>\n",
       "    .dataframe tbody tr th:only-of-type {\n",
       "        vertical-align: middle;\n",
       "    }\n",
       "\n",
       "    .dataframe tbody tr th {\n",
       "        vertical-align: top;\n",
       "    }\n",
       "\n",
       "    .dataframe thead th {\n",
       "        text-align: right;\n",
       "    }\n",
       "</style>\n",
       "<table border=\"1\" class=\"dataframe\">\n",
       "  <thead>\n",
       "    <tr style=\"text-align: right;\">\n",
       "      <th></th>\n",
       "      <th>GLCM_pan</th>\n",
       "      <th>Mean_NIR</th>\n",
       "      <th>SD_pan</th>\n",
       "      <th>Class</th>\n",
       "      <th>Mean_Green_log</th>\n",
       "      <th>Mean_Red_log</th>\n",
       "    </tr>\n",
       "  </thead>\n",
       "  <tbody>\n",
       "    <tr>\n",
       "      <th>0</th>\n",
       "      <td>120.362774</td>\n",
       "      <td>416.581395</td>\n",
       "      <td>20.676318</td>\n",
       "      <td>1</td>\n",
       "      <td>5.325446</td>\n",
       "      <td>4.782440</td>\n",
       "    </tr>\n",
       "    <tr>\n",
       "      <th>1</th>\n",
       "      <td>124.739583</td>\n",
       "      <td>354.333333</td>\n",
       "      <td>16.707151</td>\n",
       "      <td>1</td>\n",
       "      <td>5.312220</td>\n",
       "      <td>4.747826</td>\n",
       "    </tr>\n",
       "    <tr>\n",
       "      <th>2</th>\n",
       "      <td>134.691964</td>\n",
       "      <td>477.857143</td>\n",
       "      <td>22.496712</td>\n",
       "      <td>1</td>\n",
       "      <td>5.294740</td>\n",
       "      <td>4.760952</td>\n",
       "    </tr>\n",
       "    <tr>\n",
       "      <th>3</th>\n",
       "      <td>127.946309</td>\n",
       "      <td>278.473684</td>\n",
       "      <td>14.977453</td>\n",
       "      <td>1</td>\n",
       "      <td>5.183851</td>\n",
       "      <td>4.525785</td>\n",
       "    </tr>\n",
       "    <tr>\n",
       "      <th>4</th>\n",
       "      <td>135.431548</td>\n",
       "      <td>532.952381</td>\n",
       "      <td>17.604193</td>\n",
       "      <td>1</td>\n",
       "      <td>5.283204</td>\n",
       "      <td>4.724645</td>\n",
       "    </tr>\n",
       "  </tbody>\n",
       "</table>\n",
       "</div>"
      ],
      "text/plain": [
       "     GLCM_pan    Mean_NIR     SD_pan  Class  Mean_Green_log  Mean_Red_log\n",
       "0  120.362774  416.581395  20.676318      1        5.325446      4.782440\n",
       "1  124.739583  354.333333  16.707151      1        5.312220      4.747826\n",
       "2  134.691964  477.857143  22.496712      1        5.294740      4.760952\n",
       "3  127.946309  278.473684  14.977453      1        5.183851      4.525785\n",
       "4  135.431548  532.952381  17.604193      1        5.283204      4.724645"
      ]
     },
     "execution_count": 36,
     "metadata": {},
     "output_type": "execute_result"
    }
   ],
   "source": [
    "dfTrain=pd.read_csv(\"../Classification/wilt_traindt.csv\")\n",
    "dfTrain.drop(['Unnamed: 0'],axis=1,inplace=True)\n",
    "dfTrain.head()"
   ]
  },
  {
   "cell_type": "code",
   "execution_count": 37,
   "metadata": {},
   "outputs": [],
   "source": [
    "X=dfTrain[['GLCM_pan','Mean_NIR','SD_pan','Mean_Green_log','Mean_Red_log']]\n",
    "Y=dfTrain['Class'].values"
   ]
  },
  {
   "cell_type": "code",
   "execution_count": 38,
   "metadata": {},
   "outputs": [
    {
     "data": {
      "text/html": [
       "<div>\n",
       "<style scoped>\n",
       "    .dataframe tbody tr th:only-of-type {\n",
       "        vertical-align: middle;\n",
       "    }\n",
       "\n",
       "    .dataframe tbody tr th {\n",
       "        vertical-align: top;\n",
       "    }\n",
       "\n",
       "    .dataframe thead th {\n",
       "        text-align: right;\n",
       "    }\n",
       "</style>\n",
       "<table border=\"1\" class=\"dataframe\">\n",
       "  <thead>\n",
       "    <tr style=\"text-align: right;\">\n",
       "      <th></th>\n",
       "      <th>0</th>\n",
       "      <th>1</th>\n",
       "      <th>2</th>\n",
       "      <th>3</th>\n",
       "      <th>4</th>\n",
       "    </tr>\n",
       "  </thead>\n",
       "  <tbody>\n",
       "    <tr>\n",
       "      <th>0</th>\n",
       "      <td>-0.475180</td>\n",
       "      <td>-0.764405</td>\n",
       "      <td>-0.388399</td>\n",
       "      <td>-0.575692</td>\n",
       "      <td>0.278598</td>\n",
       "    </tr>\n",
       "    <tr>\n",
       "      <th>1</th>\n",
       "      <td>-0.156213</td>\n",
       "      <td>-1.166831</td>\n",
       "      <td>-0.756342</td>\n",
       "      <td>-0.646968</td>\n",
       "      <td>0.166728</td>\n",
       "    </tr>\n",
       "    <tr>\n",
       "      <th>2</th>\n",
       "      <td>0.569083</td>\n",
       "      <td>-0.368266</td>\n",
       "      <td>-0.219648</td>\n",
       "      <td>-0.741174</td>\n",
       "      <td>0.209150</td>\n",
       "    </tr>\n",
       "    <tr>\n",
       "      <th>3</th>\n",
       "      <td>0.077483</td>\n",
       "      <td>-1.657253</td>\n",
       "      <td>-0.916686</td>\n",
       "      <td>-1.338769</td>\n",
       "      <td>-0.550893</td>\n",
       "    </tr>\n",
       "    <tr>\n",
       "      <th>4</th>\n",
       "      <td>0.622982</td>\n",
       "      <td>-0.012082</td>\n",
       "      <td>-0.673186</td>\n",
       "      <td>-0.803342</td>\n",
       "      <td>0.091807</td>\n",
       "    </tr>\n",
       "  </tbody>\n",
       "</table>\n",
       "</div>"
      ],
      "text/plain": [
       "          0         1         2         3         4\n",
       "0 -0.475180 -0.764405 -0.388399 -0.575692  0.278598\n",
       "1 -0.156213 -1.166831 -0.756342 -0.646968  0.166728\n",
       "2  0.569083 -0.368266 -0.219648 -0.741174  0.209150\n",
       "3  0.077483 -1.657253 -0.916686 -1.338769 -0.550893\n",
       "4  0.622982 -0.012082 -0.673186 -0.803342  0.091807"
      ]
     },
     "execution_count": 38,
     "metadata": {},
     "output_type": "execute_result"
    }
   ],
   "source": [
    "from sklearn.preprocessing import StandardScaler\n",
    "X=StandardScaler().fit(X).transform(X)\n",
    "X=pd.DataFrame(X)\n",
    "X.head()"
   ]
  },
  {
   "cell_type": "code",
   "execution_count": 39,
   "metadata": {},
   "outputs": [
    {
     "name": "stdout",
     "output_type": "stream",
     "text": [
      "Train set: (3233, 5) (3233,)\n",
      "Test set: (1078, 5) (1078,)\n"
     ]
    }
   ],
   "source": [
    "from sklearn.model_selection import train_test_split\n",
    "xtrain, xtest, ytrain, ytest = train_test_split( X, Y, test_size=0.25, random_state=4)\n",
    "print ('Train set:', xtrain.shape,  ytrain.shape)\n",
    "print ('Test set:', xtest.shape,  ytest.shape)"
   ]
  },
  {
   "cell_type": "code",
   "execution_count": 50,
   "metadata": {},
   "outputs": [
    {
     "name": "stderr",
     "output_type": "stream",
     "text": [
      "C:\\Users\\Ashkan\\Anaconda3\\lib\\site-packages\\sklearn\\linear_model\\logistic.py:432: FutureWarning: Default solver will be changed to 'lbfgs' in 0.22. Specify a solver to silence this warning.\n",
      "  FutureWarning)\n"
     ]
    }
   ],
   "source": [
    "from sklearn.linear_model import LogisticRegression\n",
    "\n",
    "clf_lgr1=LogisticRegression(random_state=0, solver='lbfgs',multi_class='multinomial')\n",
    "clf_lgr2=LogisticRegression(random_state=0, solver='warn',multi_class='warn')\n",
    "clf_lgr3= LogisticRegression(C=0.01, solver='liblinear')\n",
    "\n",
    "\n",
    "clf_lgr1.fit(xtrain,ytrain)\n",
    "clf_lgr2.fit(xtrain,ytrain)\n",
    "clf_lgr3.fit(xtrain,ytrain)\n",
    "\n",
    "y_pred1=clf_lgr1.predict(xtrain)\n",
    "y_proba1=clf_lgr1.predict_proba(xtrain)\n",
    "\n",
    "y_pred2=clf_lgr2.predict(xtrain)\n",
    "y_proba2=clf_lgr2.predict_proba(xtrain)\n",
    "\n",
    "y_pred3=clf_lgr3.predict(xtrain)\n",
    "y_proba3=clf_lgr3.predict_proba(xtrain)\n",
    "\n"
   ]
  },
  {
   "cell_type": "code",
   "execution_count": 51,
   "metadata": {},
   "outputs": [
    {
     "name": "stdout",
     "output_type": "stream",
     "text": [
      "jaccard 1st model = 0.9935044849984535 \n",
      " f1 score 1st model = 0.9929771243725775 \n",
      " log loss model 1 = 0.02118526179349437 \n",
      " \n",
      " \n",
      "\n",
      "jaccard 2nd model = 0.9897927621404269 \n",
      " f1 score 2nd model = 0.9881895505924181 \n",
      " log loss model 2 = 0.027705459257211826 \n",
      "\n",
      " \n",
      "\n",
      "jaccard 3rd model = 0.9814413857098669 \n",
      " f1 score 3rd model = 0.9722489905892625 \n",
      " log loss model 3 = 0.1323680079500523 \n",
      "\n",
      " \n",
      "\n",
      "y_pred 1st model = [0 0 0 ... 0 0 0] \n",
      " y_proba model 1 = [[9.98431792e-01 1.56820841e-03]\n",
      " [9.56360997e-01 4.36390033e-02]\n",
      " [9.98414149e-01 1.58585091e-03]\n",
      " ...\n",
      " [9.99715279e-01 2.84721419e-04]\n",
      " [9.48884859e-01 5.11151409e-02]\n",
      " [9.84695138e-01 1.53048624e-02]] \n",
      " \n",
      "\n",
      "y_pred 2nd model = [0 0 0 ... 0 0 0] \n",
      " y_proba 2nd model = [[0.99593881 0.00406119]\n",
      " [0.94256281 0.05743719]\n",
      " [0.99633412 0.00366588]\n",
      " ...\n",
      " [0.9988312  0.0011688 ]\n",
      " [0.93740026 0.06259974]\n",
      " [0.97504039 0.02495961]] \n",
      "\n",
      "y_pred 3rd model = [0 0 0 ... 0 0 0] \n",
      " y_proba 3rd model = [[0.91770157 0.08229843]\n",
      " [0.8815413  0.1184587 ]\n",
      " [0.92305308 0.07694692]\n",
      " ...\n",
      " [0.91572446 0.08427554]\n",
      " [0.88537853 0.11462147]\n",
      " [0.89361919 0.10638081]] \n",
      "\n"
     ]
    },
    {
     "name": "stderr",
     "output_type": "stream",
     "text": [
      "C:\\Users\\Ashkan\\Anaconda3\\lib\\site-packages\\sklearn\\metrics\\classification.py:635: DeprecationWarning: jaccard_similarity_score has been deprecated and replaced with jaccard_score. It will be removed in version 0.23. This implementation has surprising behavior for binary and multiclass classification tasks.\n",
      "  'and multiclass classification tasks.', DeprecationWarning)\n",
      "C:\\Users\\Ashkan\\Anaconda3\\lib\\site-packages\\sklearn\\metrics\\classification.py:635: DeprecationWarning: jaccard_similarity_score has been deprecated and replaced with jaccard_score. It will be removed in version 0.23. This implementation has surprising behavior for binary and multiclass classification tasks.\n",
      "  'and multiclass classification tasks.', DeprecationWarning)\n",
      "C:\\Users\\Ashkan\\Anaconda3\\lib\\site-packages\\sklearn\\metrics\\classification.py:635: DeprecationWarning: jaccard_similarity_score has been deprecated and replaced with jaccard_score. It will be removed in version 0.23. This implementation has surprising behavior for binary and multiclass classification tasks.\n",
      "  'and multiclass classification tasks.', DeprecationWarning)\n",
      "C:\\Users\\Ashkan\\Anaconda3\\lib\\site-packages\\sklearn\\metrics\\classification.py:1437: UndefinedMetricWarning: F-score is ill-defined and being set to 0.0 in labels with no predicted samples.\n",
      "  'precision', 'predicted', average, warn_for)\n"
     ]
    }
   ],
   "source": [
    "from sklearn.metrics import log_loss,jaccard_similarity_score,f1_score\n",
    "\n",
    "jsc1=jaccard_similarity_score(ytrain, y_pred1)\n",
    "fone1=f1_score(ytrain, y_pred1, average='weighted')  \n",
    "lls_train1=log_loss(ytrain, y_proba1)\n",
    "\n",
    "jsc2=jaccard_similarity_score(ytrain, y_pred2)\n",
    "fone2=f1_score(ytrain, y_pred2, average='weighted')  \n",
    "lls_train2=log_loss(ytrain, y_proba2)\n",
    "\n",
    "jsc3=jaccard_similarity_score(ytrain, y_pred3)\n",
    "fone3=f1_score(ytrain, y_pred3, average='weighted')  \n",
    "lls_train3=log_loss(ytrain, y_proba3)\n",
    "\n",
    "print('jaccard 1st model =',jsc1,'\\n','f1 score 1st model =',fone1,'\\n','log loss model 1 =',lls_train1,'\\n \\n \\n')\n",
    "\n",
    "print('jaccard 2nd model =',jsc2,'\\n','f1 score 2nd model =',fone2,'\\n','log loss model 2 =',lls_train2,'\\n\\n \\n')\n",
    "\n",
    "print('jaccard 3rd model =',jsc3,'\\n','f1 score 3rd model =',fone3,'\\n','log loss model 3 =',lls_train3,'\\n\\n \\n')\n",
    "\n",
    "\n",
    "print('y_pred 1st model =',y_pred1,'\\n','y_proba model 1 =',y_proba1,'\\n \\n')\n",
    "\n",
    "print('y_pred 2nd model =',y_pred2,'\\n','y_proba 2nd model =',y_proba2,'\\n')\n",
    "\n",
    "print('y_pred 3rd model =',y_pred3,'\\n','y_proba 3rd model =',y_proba3,'\\n')\n"
   ]
  },
  {
   "cell_type": "code",
   "execution_count": 52,
   "metadata": {},
   "outputs": [],
   "source": [
    "yhat1 = clf_lgr1.predict(xtest)\n",
    "yhat2 = clf_lgr2.predict(xtest)\n",
    "yhat3 = clf_lgr3.predict(xtest)"
   ]
  },
  {
   "cell_type": "code",
   "execution_count": 53,
   "metadata": {},
   "outputs": [
    {
     "name": "stdout",
     "output_type": "stream",
     "text": [
      "report model 1 : \n",
      "               precision    recall  f1-score   support\n",
      "\n",
      "           0       1.00      1.00      1.00      1064\n",
      "           1       1.00      0.86      0.92        14\n",
      "\n",
      "    accuracy                           1.00      1078\n",
      "   macro avg       1.00      0.93      0.96      1078\n",
      "weighted avg       1.00      1.00      1.00      1078\n",
      " \n",
      "\n",
      "report model 2 : \n",
      "               precision    recall  f1-score   support\n",
      "\n",
      "           0       0.99      1.00      1.00      1064\n",
      "           1       1.00      0.36      0.53        14\n",
      "\n",
      "    accuracy                           0.99      1078\n",
      "   macro avg       1.00      0.68      0.76      1078\n",
      "weighted avg       0.99      0.99      0.99      1078\n",
      " \n",
      "\n",
      "report model 3 : \n",
      "               precision    recall  f1-score   support\n",
      "\n",
      "           0       0.99      1.00      0.99      1064\n",
      "           1       0.00      0.00      0.00        14\n",
      "\n",
      "    accuracy                           0.99      1078\n",
      "   macro avg       0.49      0.50      0.50      1078\n",
      "weighted avg       0.97      0.99      0.98      1078\n",
      "\n"
     ]
    },
    {
     "name": "stderr",
     "output_type": "stream",
     "text": [
      "C:\\Users\\Ashkan\\Anaconda3\\lib\\site-packages\\sklearn\\metrics\\classification.py:1437: UndefinedMetricWarning: Precision and F-score are ill-defined and being set to 0.0 in labels with no predicted samples.\n",
      "  'precision', 'predicted', average, warn_for)\n"
     ]
    }
   ],
   "source": [
    "from sklearn.metrics import classification_report\n",
    "\n",
    "print ('report model 1 :','\\n',classification_report(ytest, yhat1),'\\n')\n",
    "\n",
    "print ('report model 2 :','\\n',classification_report(ytest, yhat2),'\\n')\n",
    "\n",
    "print ('report model 3 :','\\n',classification_report(ytest, yhat3))"
   ]
  },
  {
   "cell_type": "markdown",
   "metadata": {},
   "source": [
    "####  model 1 have a better performance"
   ]
  },
  {
   "cell_type": "markdown",
   "metadata": {},
   "source": [
    "### LGR Model :"
   ]
  },
  {
   "cell_type": "code",
   "execution_count": 60,
   "metadata": {},
   "outputs": [],
   "source": [
    "LGR=LogisticRegression(random_state=0, solver='lbfgs',multi_class='multinomial').fit(xtrain,ytrain)"
   ]
  },
  {
   "cell_type": "markdown",
   "metadata": {},
   "source": [
    "#### Test "
   ]
  },
  {
   "cell_type": "code",
   "execution_count": 61,
   "metadata": {},
   "outputs": [
    {
     "data": {
      "text/html": [
       "<div>\n",
       "<style scoped>\n",
       "    .dataframe tbody tr th:only-of-type {\n",
       "        vertical-align: middle;\n",
       "    }\n",
       "\n",
       "    .dataframe tbody tr th {\n",
       "        vertical-align: top;\n",
       "    }\n",
       "\n",
       "    .dataframe thead th {\n",
       "        text-align: right;\n",
       "    }\n",
       "</style>\n",
       "<table border=\"1\" class=\"dataframe\">\n",
       "  <thead>\n",
       "    <tr style=\"text-align: right;\">\n",
       "      <th></th>\n",
       "      <th>class</th>\n",
       "      <th>GLCM_pan</th>\n",
       "      <th>Mean_NIR</th>\n",
       "      <th>SD_pan</th>\n",
       "      <th>Mean_Green_log</th>\n",
       "      <th>Mean_Red_log</th>\n",
       "    </tr>\n",
       "  </thead>\n",
       "  <tbody>\n",
       "    <tr>\n",
       "      <th>0</th>\n",
       "      <td>0</td>\n",
       "      <td>109.828571</td>\n",
       "      <td>251.750000</td>\n",
       "      <td>16.079412</td>\n",
       "      <td>5.213304</td>\n",
       "      <td>4.418238</td>\n",
       "    </tr>\n",
       "    <tr>\n",
       "      <th>1</th>\n",
       "      <td>0</td>\n",
       "      <td>130.284483</td>\n",
       "      <td>482.396552</td>\n",
       "      <td>21.210295</td>\n",
       "      <td>5.359591</td>\n",
       "      <td>4.573644</td>\n",
       "    </tr>\n",
       "    <tr>\n",
       "      <th>2</th>\n",
       "      <td>0</td>\n",
       "      <td>131.386555</td>\n",
       "      <td>419.666667</td>\n",
       "      <td>13.339998</td>\n",
       "      <td>5.222875</td>\n",
       "      <td>4.448126</td>\n",
       "    </tr>\n",
       "    <tr>\n",
       "      <th>3</th>\n",
       "      <td>0</td>\n",
       "      <td>141.345098</td>\n",
       "      <td>348.062500</td>\n",
       "      <td>18.213577</td>\n",
       "      <td>5.197806</td>\n",
       "      <td>4.400603</td>\n",
       "    </tr>\n",
       "    <tr>\n",
       "      <th>4</th>\n",
       "      <td>1</td>\n",
       "      <td>121.383408</td>\n",
       "      <td>426.607143</td>\n",
       "      <td>19.083196</td>\n",
       "      <td>5.386132</td>\n",
       "      <td>4.718658</td>\n",
       "    </tr>\n",
       "  </tbody>\n",
       "</table>\n",
       "</div>"
      ],
      "text/plain": [
       "   class    GLCM_pan    Mean_NIR     SD_pan  Mean_Green_log  Mean_Red_log\n",
       "0      0  109.828571  251.750000  16.079412        5.213304      4.418238\n",
       "1      0  130.284483  482.396552  21.210295        5.359591      4.573644\n",
       "2      0  131.386555  419.666667  13.339998        5.222875      4.448126\n",
       "3      0  141.345098  348.062500  18.213577        5.197806      4.400603\n",
       "4      1  121.383408  426.607143  19.083196        5.386132      4.718658"
      ]
     },
     "execution_count": 61,
     "metadata": {},
     "output_type": "execute_result"
    }
   ],
   "source": [
    "dfTest=pd.read_csv(\"../Classification/wilt_testdt.csv\")\n",
    "dfTest.drop(['Unnamed: 0'],axis=1,inplace=True)\n",
    "dfTest.head()"
   ]
  },
  {
   "cell_type": "code",
   "execution_count": 62,
   "metadata": {},
   "outputs": [],
   "source": [
    "X_test=dfTest[['GLCM_pan','Mean_NIR','SD_pan','Mean_Green_log','Mean_Red_log']]\n",
    "Y_test=dfTest['class'].values"
   ]
  },
  {
   "cell_type": "code",
   "execution_count": 63,
   "metadata": {},
   "outputs": [
    {
     "data": {
      "text/html": [
       "<div>\n",
       "<style scoped>\n",
       "    .dataframe tbody tr th:only-of-type {\n",
       "        vertical-align: middle;\n",
       "    }\n",
       "\n",
       "    .dataframe tbody tr th {\n",
       "        vertical-align: top;\n",
       "    }\n",
       "\n",
       "    .dataframe thead th {\n",
       "        text-align: right;\n",
       "    }\n",
       "</style>\n",
       "<table border=\"1\" class=\"dataframe\">\n",
       "  <thead>\n",
       "    <tr style=\"text-align: right;\">\n",
       "      <th></th>\n",
       "      <th>0</th>\n",
       "      <th>1</th>\n",
       "      <th>2</th>\n",
       "      <th>3</th>\n",
       "      <th>4</th>\n",
       "    </tr>\n",
       "  </thead>\n",
       "  <tbody>\n",
       "    <tr>\n",
       "      <th>0</th>\n",
       "      <td>-1.617492</td>\n",
       "      <td>-1.294426</td>\n",
       "      <td>-0.675777</td>\n",
       "      <td>-0.709051</td>\n",
       "      <td>-0.805318</td>\n",
       "    </tr>\n",
       "    <tr>\n",
       "      <th>1</th>\n",
       "      <td>0.302012</td>\n",
       "      <td>0.183679</td>\n",
       "      <td>0.084290</td>\n",
       "      <td>0.208461</td>\n",
       "      <td>-0.211652</td>\n",
       "    </tr>\n",
       "    <tr>\n",
       "      <th>2</th>\n",
       "      <td>0.405427</td>\n",
       "      <td>-0.218327</td>\n",
       "      <td>-1.081583</td>\n",
       "      <td>-0.649020</td>\n",
       "      <td>-0.691142</td>\n",
       "    </tr>\n",
       "    <tr>\n",
       "      <th>3</th>\n",
       "      <td>1.339898</td>\n",
       "      <td>-0.677204</td>\n",
       "      <td>-0.359631</td>\n",
       "      <td>-0.806253</td>\n",
       "      <td>-0.872686</td>\n",
       "    </tr>\n",
       "    <tr>\n",
       "      <th>4</th>\n",
       "      <td>-0.533231</td>\n",
       "      <td>-0.173849</td>\n",
       "      <td>-0.230809</td>\n",
       "      <td>0.374928</td>\n",
       "      <td>0.342317</td>\n",
       "    </tr>\n",
       "  </tbody>\n",
       "</table>\n",
       "</div>"
      ],
      "text/plain": [
       "          0         1         2         3         4\n",
       "0 -1.617492 -1.294426 -0.675777 -0.709051 -0.805318\n",
       "1  0.302012  0.183679  0.084290  0.208461 -0.211652\n",
       "2  0.405427 -0.218327 -1.081583 -0.649020 -0.691142\n",
       "3  1.339898 -0.677204 -0.359631 -0.806253 -0.872686\n",
       "4 -0.533231 -0.173849 -0.230809  0.374928  0.342317"
      ]
     },
     "execution_count": 63,
     "metadata": {},
     "output_type": "execute_result"
    }
   ],
   "source": [
    "X_test_norm=StandardScaler().fit(X_test).transform(X_test)\n",
    "X_test_norm=pd.DataFrame(X_test_norm)\n",
    "X_test_norm.head()"
   ]
  },
  {
   "cell_type": "code",
   "execution_count": 65,
   "metadata": {},
   "outputs": [
    {
     "name": "stdout",
     "output_type": "stream",
     "text": [
      "f1 score:  0.5152722721267329\n",
      "Jaccard index:  0.638\n",
      "Log Loss:  1.262939492322326\n"
     ]
    },
    {
     "name": "stderr",
     "output_type": "stream",
     "text": [
      "C:\\Users\\Ashkan\\Anaconda3\\lib\\site-packages\\sklearn\\metrics\\classification.py:635: DeprecationWarning: jaccard_similarity_score has been deprecated and replaced with jaccard_score. It will be removed in version 0.23. This implementation has surprising behavior for binary and multiclass classification tasks.\n",
      "  'and multiclass classification tasks.', DeprecationWarning)\n"
     ]
    }
   ],
   "source": [
    "LGR_yhat = LGR.predict(X_test_norm)\n",
    "\n",
    "LGR_f1 = f1_score(Y_test, LGR_yhat, average='weighted') \n",
    "\n",
    "LGR_jsc = jaccard_similarity_score(Y_test, LGR_yhat)\n",
    "\n",
    "LGR_yhat_prob = LGR.predict_proba(X_test_norm)\n",
    "LGR_lls = log_loss(Y_test, LGR_yhat_prob)\n",
    "\n",
    "\n",
    "print('f1 score: ',LGR_f1)\n",
    "print('Jaccard index: ',LGR_jsc)\n",
    "print('Log Loss: ',LGR_lls)"
   ]
  },
  {
   "cell_type": "code",
   "execution_count": 66,
   "metadata": {},
   "outputs": [
    {
     "name": "stdout",
     "output_type": "stream",
     "text": [
      "[[311   2]\n",
      " [179   8]]\n"
     ]
    },
    {
     "data": {
      "text/html": [
       "<div>\n",
       "<style scoped>\n",
       "    .dataframe tbody tr th:only-of-type {\n",
       "        vertical-align: middle;\n",
       "    }\n",
       "\n",
       "    .dataframe tbody tr th {\n",
       "        vertical-align: top;\n",
       "    }\n",
       "\n",
       "    .dataframe thead th {\n",
       "        text-align: right;\n",
       "    }\n",
       "</style>\n",
       "<table border=\"1\" class=\"dataframe\">\n",
       "  <thead>\n",
       "    <tr style=\"text-align: right;\">\n",
       "      <th></th>\n",
       "      <th>Predicted 0</th>\n",
       "      <th>Predicted 1</th>\n",
       "    </tr>\n",
       "  </thead>\n",
       "  <tbody>\n",
       "    <tr>\n",
       "      <th>Actual 0</th>\n",
       "      <td>311</td>\n",
       "      <td>2</td>\n",
       "    </tr>\n",
       "    <tr>\n",
       "      <th>Actual 1</th>\n",
       "      <td>179</td>\n",
       "      <td>8</td>\n",
       "    </tr>\n",
       "  </tbody>\n",
       "</table>\n",
       "</div>"
      ],
      "text/plain": [
       "          Predicted 0  Predicted 1\n",
       "Actual 0          311            2\n",
       "Actual 1          179            8"
      ]
     },
     "execution_count": 66,
     "metadata": {},
     "output_type": "execute_result"
    }
   ],
   "source": [
    "from sklearn.metrics import confusion_matrix\n",
    "confusion = confusion_matrix(Y_test, LGR_yhat)\n",
    "print(confusion)\n",
    "TP = confusion[1, 1]\n",
    "TN = confusion[0, 0]\n",
    "FP = confusion[0, 1]\n",
    "FN = confusion[1, 0]\n",
    "pd.DataFrame(data=confusion,columns=['Predicted 0','Predicted 1'],index=['Actual 0','Actual 1'])"
   ]
  },
  {
   "cell_type": "code",
   "execution_count": 67,
   "metadata": {},
   "outputs": [
    {
     "name": "stdout",
     "output_type": "stream",
     "text": [
      "The model predict has \t 63.8 %,True prediction\n",
      "The model predict has \t 36.2 %,False prediction\n"
     ]
    }
   ],
   "source": [
    "n_total=TP+TN+FP+FN\n",
    "n_total\n",
    "\n",
    "True_pred,wrong_pred=TP+TN,FN+FP\n",
    "TPred=(True_pred*100)/n_total\n",
    "FPred=(wrong_pred*100)/n_total\n",
    "print('The model predict has','\\t',TPred,'%,True prediction')\n",
    "print('The model predict has','\\t',FPred,'%,False prediction')"
   ]
  }
 ],
 "metadata": {
  "kernelspec": {
   "display_name": "Python 3",
   "language": "python",
   "name": "python3"
  },
  "language_info": {
   "codemirror_mode": {
    "name": "ipython",
    "version": 3
   },
   "file_extension": ".py",
   "mimetype": "text/x-python",
   "name": "python",
   "nbconvert_exporter": "python",
   "pygments_lexer": "ipython3",
   "version": "3.7.3"
  }
 },
 "nbformat": 4,
 "nbformat_minor": 2
}
